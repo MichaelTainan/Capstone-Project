{
 "cells": [
  {
   "cell_type": "markdown",
   "metadata": {},
   "source": [
    "# Fetch API Data and Upload to S3 by simple code\n",
    "## use in countries, leagues"
   ]
  },
  {
   "cell_type": "code",
   "execution_count": null,
   "metadata": {},
   "outputs": [],
   "source": [
    "#!pip3 install --upgrade pandas"
   ]
  },
  {
   "cell_type": "code",
   "execution_count": 1,
   "metadata": {},
   "outputs": [],
   "source": [
    "import requests\n",
    "import configparser\n",
    "import os\n",
    "import boto3\n",
    "import json\n",
    "import pandas as pd"
   ]
  },
  {
   "cell_type": "code",
   "execution_count": 2,
   "metadata": {},
   "outputs": [],
   "source": [
    "from datetime import datetime"
   ]
  },
  {
   "cell_type": "code",
   "execution_count": 3,
   "metadata": {},
   "outputs": [
    {
     "data": {
      "text/plain": [
       "['dl.cfg']"
      ]
     },
     "execution_count": 3,
     "metadata": {},
     "output_type": "execute_result"
    }
   ],
   "source": [
    "config = configparser.ConfigParser()\n",
    "config.read('dl.cfg')"
   ]
  },
  {
   "cell_type": "code",
   "execution_count": 4,
   "metadata": {},
   "outputs": [],
   "source": [
    "os.environ['AWS_ACCESS_KEY_ID']=config['AWS']['AWS_ACCESS_KEY_ID']\n",
    "os.environ['AWS_SECRET_ACCESS_KEY']=config['AWS']['AWS_SECRET_ACCESS_KEY']"
   ]
  },
  {
   "cell_type": "code",
   "execution_count": 5,
   "metadata": {},
   "outputs": [],
   "source": [
    "X_RapidAPI_Key = config['FOOTBALLAPI']['X_RapidAPI_Key']\n",
    "X_RapidAPI_Host= config['FOOTBALLAPI']['X_RapidAPI_Host']"
   ]
  },
  {
   "cell_type": "code",
   "execution_count": 6,
   "metadata": {},
   "outputs": [],
   "source": [
    "headers = {\n",
    "    \"X-RapidAPI-Key\": X_RapidAPI_Key,\n",
    "\t\"X-RapidAPI-Host\": X_RapidAPI_Host\n",
    "}"
   ]
  },
  {
   "cell_type": "code",
   "execution_count": 7,
   "metadata": {},
   "outputs": [],
   "source": [
    "s3_client = boto3.client('s3')"
   ]
  },
  {
   "cell_type": "code",
   "execution_count": 14,
   "metadata": {},
   "outputs": [],
   "source": [
    "url = \"https://api-football-v1.p.rapidapi.com/v3/countries\"\n",
    "\n",
    "data = requests.request(\"GET\", url, headers=headers)\n",
    "data_string = json.dumps(data.json()['response'], default=str)"
   ]
  },
  {
   "cell_type": "code",
   "execution_count": 15,
   "metadata": {},
   "outputs": [
    {
     "data": {
      "text/plain": [
       "{'ResponseMetadata': {'RequestId': '3AM4HDCXQZ4NSN0Q',\n",
       "  'HostId': 'OcIQL2CGc++8RhZQ8HNvHiRIkjV/KvFRn4JlrXV6mvlODX3JXRm016K/xH7FxwnZUIe/crnQfwk=',\n",
       "  'HTTPStatusCode': 200,\n",
       "  'HTTPHeaders': {'x-amz-id-2': 'OcIQL2CGc++8RhZQ8HNvHiRIkjV/KvFRn4JlrXV6mvlODX3JXRm016K/xH7FxwnZUIe/crnQfwk=',\n",
       "   'x-amz-request-id': '3AM4HDCXQZ4NSN0Q',\n",
       "   'date': 'Thu, 25 May 2023 04:51:08 GMT',\n",
       "   'x-amz-server-side-encryption': 'AES256',\n",
       "   'etag': '\"dd25d0374fdb7dcb0b6a8268b952f4d3\"',\n",
       "   'server': 'AmazonS3',\n",
       "   'content-length': '0'},\n",
       "  'RetryAttempts': 0},\n",
       " 'ETag': '\"dd25d0374fdb7dcb0b6a8268b952f4d3\"',\n",
       " 'ServerSideEncryption': 'AES256'}"
      ]
     },
     "execution_count": 15,
     "metadata": {},
     "output_type": "execute_result"
    }
   ],
   "source": [
    "s3_client.put_object(\n",
    "    Bucket='capstonefootballbucket', \n",
    "    Key='countries.json',\n",
    "    Body=data_string\n",
    ")"
   ]
  },
  {
   "cell_type": "markdown",
   "metadata": {},
   "source": [
    "## Countries data save as csv format"
   ]
  },
  {
   "cell_type": "code",
   "execution_count": 31,
   "metadata": {},
   "outputs": [],
   "source": [
    "url = \"https://api-football-v1.p.rapidapi.com/v3/countries\"\n",
    "data = requests.request(\"GET\", url, headers=headers)\n",
    "data_obj = data.json()['response']\n",
    "df = pd.DataFrame(data_obj, columns=['name', 'code', 'flag'])\n",
    "csv_content = df.to_csv(index=False)"
   ]
  },
  {
   "cell_type": "code",
   "execution_count": 32,
   "metadata": {},
   "outputs": [
    {
     "data": {
      "text/plain": [
       "{'ResponseMetadata': {'RequestId': 'SCKCJTKNKMX7GK5R',\n",
       "  'HostId': 'oLJ7e08z/9kSXmbRKnnIw8Zsx/sup1VTZcHhQzz3O1MW3PXLAiqPs6YTtkngJ+0LJRngsIsJ8uo=',\n",
       "  'HTTPStatusCode': 200,\n",
       "  'HTTPHeaders': {'x-amz-id-2': 'oLJ7e08z/9kSXmbRKnnIw8Zsx/sup1VTZcHhQzz3O1MW3PXLAiqPs6YTtkngJ+0LJRngsIsJ8uo=',\n",
       "   'x-amz-request-id': 'SCKCJTKNKMX7GK5R',\n",
       "   'date': 'Thu, 25 May 2023 05:56:14 GMT',\n",
       "   'x-amz-server-side-encryption': 'AES256',\n",
       "   'etag': '\"8b89cdb974f57b430250bf754b875757\"',\n",
       "   'server': 'AmazonS3',\n",
       "   'content-length': '0'},\n",
       "  'RetryAttempts': 0},\n",
       " 'ETag': '\"8b89cdb974f57b430250bf754b875757\"',\n",
       " 'ServerSideEncryption': 'AES256'}"
      ]
     },
     "execution_count": 32,
     "metadata": {},
     "output_type": "execute_result"
    }
   ],
   "source": [
    "s3_client.put_object(\n",
    "    Bucket='capstonefootballbucket', \n",
    "    Key='countries/countries.csv',\n",
    "    Body=csv_content\n",
    ")"
   ]
  },
  {
   "cell_type": "code",
   "execution_count": 12,
   "metadata": {},
   "outputs": [],
   "source": [
    "url = \"https://api-football-v1.p.rapidapi.com/v3/leagues\"\n",
    "data = requests.request(\"GET\", url, headers=headers)\n",
    "data_string = json.dumps(data.json()['response'], default=str)"
   ]
  },
  {
   "cell_type": "code",
   "execution_count": 13,
   "metadata": {},
   "outputs": [
    {
     "data": {
      "text/plain": [
       "{'ResponseMetadata': {'RequestId': '9DPQ2ZPV95PVZ6MT',\n",
       "  'HostId': 'FLYLY3w3ZjX6IGUJvjkR+lkYLeKljMMk51QlDV0u/J5/gzgoOFpcQzqWKTBnMUZpLIeZVeK3WuA=',\n",
       "  'HTTPStatusCode': 200,\n",
       "  'HTTPHeaders': {'x-amz-id-2': 'FLYLY3w3ZjX6IGUJvjkR+lkYLeKljMMk51QlDV0u/J5/gzgoOFpcQzqWKTBnMUZpLIeZVeK3WuA=',\n",
       "   'x-amz-request-id': '9DPQ2ZPV95PVZ6MT',\n",
       "   'date': 'Wed, 15 Feb 2023 08:49:55 GMT',\n",
       "   'x-amz-server-side-encryption': 'AES256',\n",
       "   'etag': '\"3852f8d7e4f93044164dd7f5233fe0f6\"',\n",
       "   'server': 'AmazonS3',\n",
       "   'content-length': '0'},\n",
       "  'RetryAttempts': 0},\n",
       " 'ETag': '\"3852f8d7e4f93044164dd7f5233fe0f6\"',\n",
       " 'ServerSideEncryption': 'AES256'}"
      ]
     },
     "execution_count": 13,
     "metadata": {},
     "output_type": "execute_result"
    }
   ],
   "source": [
    "s3_client.put_object(\n",
    "    Bucket='capstonefootballbucket', \n",
    "    Key='leagues.json',\n",
    "    Body=data_string\n",
    ")"
   ]
  },
  {
   "cell_type": "code",
   "execution_count": 9,
   "metadata": {},
   "outputs": [
    {
     "name": "stdout",
     "output_type": "stream",
     "text": [
      "data status code 200\n"
     ]
    }
   ],
   "source": [
    "url = \"https://api-football-v1.p.rapidapi.com/v3/fixtures/statistics\"\n",
    "querystring = {\"fixture\":\"831004\"}\n",
    "data = requests.request(\"GET\", url, headers=headers, params=querystring)\n",
    "print(f\"data status code {data.status_code}\")\n",
    "data_string = json.dumps(data.json()['response'], default=str)"
   ]
  },
  {
   "cell_type": "code",
   "execution_count": 10,
   "metadata": {},
   "outputs": [
    {
     "data": {
      "text/plain": [
       "{'ResponseMetadata': {'RequestId': 'KJD7AF79NPBKXRJB',\n",
       "  'HostId': '6pJqAZvYPzJrPFjfyHAI1NaS+a7enM0nyk69NKdnFAQinbDYT7vzFGq1cYJ1gPIUumojJpWLX9Y=',\n",
       "  'HTTPStatusCode': 200,\n",
       "  'HTTPHeaders': {'x-amz-id-2': '6pJqAZvYPzJrPFjfyHAI1NaS+a7enM0nyk69NKdnFAQinbDYT7vzFGq1cYJ1gPIUumojJpWLX9Y=',\n",
       "   'x-amz-request-id': 'KJD7AF79NPBKXRJB',\n",
       "   'date': 'Thu, 18 May 2023 08:17:54 GMT',\n",
       "   'x-amz-server-side-encryption': 'AES256',\n",
       "   'etag': '\"991c3a2144b413ca84429ca55e4931ee\"',\n",
       "   'server': 'AmazonS3',\n",
       "   'content-length': '0'},\n",
       "  'RetryAttempts': 0},\n",
       " 'ETag': '\"991c3a2144b413ca84429ca55e4931ee\"',\n",
       " 'ServerSideEncryption': 'AES256'}"
      ]
     },
     "execution_count": 10,
     "metadata": {},
     "output_type": "execute_result"
    }
   ],
   "source": [
    "s3_client.put_object(\n",
    "    Bucket='capstonefootballbucket', \n",
    "    Key='s3_folder/831004statistics.json',\n",
    "    Body=data_string\n",
    ")"
   ]
  },
  {
   "cell_type": "code",
   "execution_count": 8,
   "metadata": {},
   "outputs": [],
   "source": [
    "url = \"https://api-football-v1.p.rapidapi.com/v3/players\"\n",
    "querystring = {'league': '128', 'season': '2022'}\n",
    "data = requests.request(\"GET\", url, headers=headers, params=querystring)\n",
    "data_string = json.dumps(data.json()['response'], default=str)"
   ]
  },
  {
   "cell_type": "code",
   "execution_count": 9,
   "metadata": {},
   "outputs": [
    {
     "data": {
      "text/plain": [
       "{'ResponseMetadata': {'RequestId': '9R432J8A2MM1X4ES',\n",
       "  'HostId': 'otauuJy/aSKappkbAnk6LuoUDsp0YauEvdNLtpOudoACkYQa0wXb82IIJkmjovoun9hS0pI8of0=',\n",
       "  'HTTPStatusCode': 200,\n",
       "  'HTTPHeaders': {'x-amz-id-2': 'otauuJy/aSKappkbAnk6LuoUDsp0YauEvdNLtpOudoACkYQa0wXb82IIJkmjovoun9hS0pI8of0=',\n",
       "   'x-amz-request-id': '9R432J8A2MM1X4ES',\n",
       "   'date': 'Fri, 19 May 2023 03:59:29 GMT',\n",
       "   'x-amz-server-side-encryption': 'AES256',\n",
       "   'etag': '\"f1de6535b0456b1df575a773e5b06fe7\"',\n",
       "   'server': 'AmazonS3',\n",
       "   'content-length': '0'},\n",
       "  'RetryAttempts': 0},\n",
       " 'ETag': '\"f1de6535b0456b1df575a773e5b06fe7\"',\n",
       " 'ServerSideEncryption': 'AES256'}"
      ]
     },
     "execution_count": 9,
     "metadata": {},
     "output_type": "execute_result"
    }
   ],
   "source": [
    "s3_client.put_object(\n",
    "    Bucket='capstonefootballbucket', \n",
    "    Key='s3_folder/128players.json',\n",
    "    Body=data_string\n",
    ")"
   ]
  },
  {
   "cell_type": "code",
   "execution_count": null,
   "metadata": {},
   "outputs": [],
   "source": []
  }
 ],
 "metadata": {
  "kernelspec": {
   "display_name": "Python 3 (ipykernel)",
   "language": "python",
   "name": "python3"
  },
  "language_info": {
   "codemirror_mode": {
    "name": "ipython",
    "version": 3
   },
   "file_extension": ".py",
   "mimetype": "text/x-python",
   "name": "python",
   "nbconvert_exporter": "python",
   "pygments_lexer": "ipython3",
   "version": "3.10.5"
  }
 },
 "nbformat": 4,
 "nbformat_minor": 4
}
